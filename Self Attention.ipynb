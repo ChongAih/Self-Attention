{
  "nbformat": 4,
  "nbformat_minor": 0,
  "metadata": {
    "colab": {
      "name": "Copy of Self Attention_Rev2.ipynb",
      "provenance": [],
      "collapsed_sections": [
        "5EwavORoKgGl",
        "S_fxrq0ZsJiQ",
        "foK4d8faNfgW",
        "Vm6XGWGfkL5f",
        "9Ry7S5fvYkvp"
      ]
    },
    "kernelspec": {
      "name": "python3",
      "display_name": "Python 3"
    },
    "accelerator": "GPU"
  },
  "cells": [
    {
      "cell_type": "code",
      "metadata": {
        "id": "XqTaJ7zOpf7C",
        "colab_type": "code",
        "outputId": "7ff2e550-934e-4446-8347-b475f8a2c7be",
        "colab": {
          "base_uri": "https://localhost:8080/",
          "height": 65
        }
      },
      "source": [
        "import numpy as np\n",
        "import matplotlib.pyplot as plt\n",
        "import seaborn as sns\n",
        "from random import randint\n",
        "from numpy import array\n",
        "from numpy import argmax\n",
        "from numpy import array_equal\n",
        "from tensorflow.keras.models import Sequential, Model\n",
        "from tensorflow.keras.layers import LSTM, Input, Dot, Activation, Conv1D, LayerNormalization\n",
        "from tensorflow.keras.layers import Dense, TimeDistributed, RepeatVector, Add, concatenate\n",
        "sns.set()"
      ],
      "execution_count": 0,
      "outputs": [
        {
          "output_type": "display_data",
          "data": {
            "text/html": [
              "<p style=\"color: red;\">\n",
              "The default version of TensorFlow in Colab will soon switch to TensorFlow 2.x.<br>\n",
              "We recommend you <a href=\"https://www.tensorflow.org/guide/migrate\" target=\"_blank\">upgrade</a> now \n",
              "or ensure your notebook will continue to use TensorFlow 1.x via the <code>%tensorflow_version 1.x</code> magic:\n",
              "<a href=\"https://colab.research.google.com/notebooks/tensorflow_version.ipynb\" target=\"_blank\">more info</a>.</p>\n"
            ],
            "text/plain": [
              "<IPython.core.display.HTML object>"
            ]
          },
          "metadata": {
            "tags": []
          }
        }
      ]
    },
    {
      "cell_type": "markdown",
      "metadata": {
        "id": "naK_gKSNxOs-",
        "colab_type": "text"
      },
      "source": [
        "**Quick Instruction Note**\n",
        "\n",
        "1.   The input and ouput both are sequences of 5 items. The first two items of the ouput are the same as the input: input = [37,38,13,3,11], output = [37,38,0,0,0]\n",
        "2.   The input and output are one-hot encoded and so the input shape of the model is (batch_size, timesteps=5, feature=50) since there are 5 items and the item values are from 0 to 50\n",
        "3.   Since the model is seq2seq, thus the attention map's size is (timesteps*timesteps) and it is generated using query and key. The attention map is then multipled with the value to get the content vector\n",
        "4.   https://machinelearningmastery.com/encoder-decoder-attention-sequence-to-sequence-prediction-keras/\n",
        "\n",
        "\n"
      ]
    },
    {
      "cell_type": "markdown",
      "metadata": {
        "id": "5EwavORoKgGl",
        "colab_type": "text"
      },
      "source": [
        "# **Original Model**"
      ]
    },
    {
      "cell_type": "code",
      "metadata": {
        "id": "5-g5Y955WDYt",
        "colab_type": "code",
        "outputId": "0b27236f-1867-4612-8b4d-b68c6a8bf8d9",
        "colab": {
          "base_uri": "https://localhost:8080/",
          "height": 816
        }
      },
      "source": [
        "# generate a sequence of random integers\n",
        "def generate_sequence(length, n_unique):\n",
        "\treturn [randint(0, n_unique-1) for _ in range(length)]\n",
        " \n",
        "# one hot encode sequence\n",
        "def one_hot_encode(sequence, n_unique):\n",
        "\tencoding = list()\n",
        "\tfor value in sequence:\n",
        "\t\tvector = [0 for _ in range(n_unique)]\n",
        "\t\tvector[value] = 1\n",
        "\t\tencoding.append(vector)\n",
        "\treturn array(encoding)\n",
        " \n",
        "# decode a one hot encoded string\n",
        "def one_hot_decode(encoded_seq):\n",
        "\treturn [argmax(vector) for vector in encoded_seq]\n",
        " \n",
        "# prepare data for the LSTM\n",
        "def get_pair(n_in, n_out, cardinality):\n",
        "\t# generate random sequence\n",
        "\tsequence_in = generate_sequence(n_in, cardinality)\n",
        "\tsequence_out = sequence_in[:n_out] + [0 for _ in range(n_in-n_out)]\n",
        "\t# one hot encode\n",
        "\tX = one_hot_encode(sequence_in, cardinality)\n",
        "\ty = one_hot_encode(sequence_out, cardinality)\n",
        "\t# reshape as 3D\n",
        "\tX = X.reshape((1, X.shape[0], X.shape[1]))\n",
        "\ty = y.reshape((1, y.shape[0], y.shape[1]))\n",
        "\treturn X,y\n",
        " \n",
        "# define the encoder-decoder model\n",
        "def baseline_model(n_timesteps_in, n_features):\n",
        "  input_ = Input(shape=(n_timesteps_in, n_features))\n",
        "  x = LSTM(150)(input_)\n",
        "  x = RepeatVector(n_timesteps_in)(x)\n",
        "  x = LSTM(150, return_sequences=True)(x)\n",
        "  output_ = TimeDistributed(Dense(n_features, activation=\"softmax\"))(x)\n",
        "  model = Model(inputs=input_, outputs=output_)\n",
        "  model.compile(loss='categorical_crossentropy', optimizer='adam', metrics=['accuracy'])\n",
        "\t#model = Sequential()\n",
        "\t#model.add(LSTM(150, input_shape=(n_timesteps_in, n_features)))\n",
        "\t#model.add(RepeatVector(n_timesteps_in))\n",
        "\t#model.add(LSTM(150, return_sequences=True))\n",
        "\t#model.add(TimeDistributed(Dense(n_features, activation='softmax')))\n",
        "  return model\n",
        "\n",
        "# My own attention model\n",
        "# define the encoder-decoder with attention model\n",
        "def attention_model(n_timesteps_in, n_features):\n",
        "  input_ = Input(shape=(n_timesteps_in, n_features))\n",
        "  x = LSTM(150, return_sequences=True)(input_)\n",
        "\n",
        "  # Create query, key, value for self-attention computation\n",
        "  # Conv1D with kernel_size 1 is equal to Dense\n",
        "  query = Conv1D(filters=32, kernel_size=1, activation=\"relu\", strides=1)(x)\n",
        "  key = Conv1D(filters=32, kernel_size=1, activation=\"relu\", strides=1)(x)\n",
        "  value = Conv1D(filters=64, kernel_size=1, activation=\"relu\", strides=1)(x)\n",
        "  # Dot product query and key - the query_key's size should be (timesteps * timesteps)\n",
        "  # axes: indicate the axes to multiply with the other tensor\n",
        "  query_key = Dot(axes=2, normalize=True)([query,key]) \n",
        "  # Softmax is applied across the columns to find the attention of one timestep to the others\n",
        "  # The attention's size should be (timesteps * timesteps)\n",
        "  attention = Activation(\"softmax\")(query_key)\n",
        "  content_vector = Dot(axes=1, normalize=True, name=\"reg_dot2\")([attention,value])\n",
        "\n",
        "  output_ = Dense(n_features, activation=\"softmax\")(content_vector)\n",
        "  model = Model(inputs=input_, outputs=output_)\n",
        "  model.compile(loss='categorical_crossentropy', optimizer='adam', metrics=['accuracy'])\n",
        "\n",
        "  return model\n",
        " \n",
        "# train and evaluate a model, return accuracy\n",
        "def train_evaluate_model(model, n_timesteps_in, n_timesteps_out, n_features, epochs):\n",
        "\t# train LSTM\n",
        "\tfor epoch in range(epochs):\n",
        "\t\t# generate new random sequence\n",
        "\t\tX,y = get_pair(n_timesteps_in, n_timesteps_out, n_features)\n",
        "\t\t# fit model for one epoch on this sequence\n",
        "\t\tmodel.fit(X, y, epochs=1, verbose=0)\n",
        "\t# evaluate LSTM\n",
        "\ttotal, correct = 100, 0\n",
        "\tfor _ in range(total):\n",
        "\t\tX,y = get_pair(n_timesteps_in, n_timesteps_out, n_features)\n",
        "\t\tyhat = model.predict(X, verbose=0)\n",
        "\t\tif array_equal(one_hot_decode(y[0]), one_hot_decode(yhat[0])):\n",
        "\t\t\tcorrect += 1\n",
        "\treturn float(correct)/float(total)*100.0\n",
        " \n",
        "# configure problem\n",
        "n_features = 50\n",
        "n_timesteps_in = 5\n",
        "n_timesteps_out = 2\n",
        "n_repeats = 10\n",
        "epochs = 20000\n",
        "# evaluate encoder-decoder model\n",
        "print('Encoder-Decoder Model')\n",
        "results = list()\n",
        "\n",
        "model = baseline_model(n_timesteps_in, n_features)\n",
        "model.summary()\n",
        "#accuracy = train_evaluate_model(model, n_timesteps_in, n_timesteps_out, n_features, epochs)\n",
        "#results.append(accuracy)\n",
        "#print(accuracy)\n",
        "\n",
        "model = attention_model(n_timesteps_in, n_features)\n",
        "model.summary()\n",
        "#accuracy = train_evaluate_model(model, n_timesteps_in, n_timesteps_out, n_features, epochs)\n",
        "#results.append(accuracy)\n",
        "#print(accuracy)"
      ],
      "execution_count": 0,
      "outputs": [
        {
          "output_type": "stream",
          "text": [
            "Encoder-Decoder Model\n",
            "Model: \"model_5\"\n",
            "_________________________________________________________________\n",
            "Layer (type)                 Output Shape              Param #   \n",
            "=================================================================\n",
            "input_5 (InputLayer)         (None, 5, 50)             0         \n",
            "_________________________________________________________________\n",
            "lstm_7 (LSTM)                (None, 150)               120600    \n",
            "_________________________________________________________________\n",
            "repeat_vector_3 (RepeatVecto (None, 5, 150)            0         \n",
            "_________________________________________________________________\n",
            "lstm_8 (LSTM)                (None, 5, 150)            180600    \n",
            "_________________________________________________________________\n",
            "time_distributed_3 (TimeDist (None, 5, 50)             7550      \n",
            "=================================================================\n",
            "Total params: 308,750\n",
            "Trainable params: 308,750\n",
            "Non-trainable params: 0\n",
            "_________________________________________________________________\n",
            "Model: \"model_6\"\n",
            "__________________________________________________________________________________________________\n",
            "Layer (type)                    Output Shape         Param #     Connected to                     \n",
            "==================================================================================================\n",
            "input_6 (InputLayer)            (None, 5, 50)        0                                            \n",
            "__________________________________________________________________________________________________\n",
            "lstm_9 (LSTM)                   (None, 5, 150)       120600      input_6[0][0]                    \n",
            "__________________________________________________________________________________________________\n",
            "conv1d_7 (Conv1D)               (None, 5, 32)        4832        lstm_9[0][0]                     \n",
            "__________________________________________________________________________________________________\n",
            "conv1d_8 (Conv1D)               (None, 5, 32)        4832        lstm_9[0][0]                     \n",
            "__________________________________________________________________________________________________\n",
            "dot_3 (Dot)                     (None, 5, 5)         0           conv1d_7[0][0]                   \n",
            "                                                                 conv1d_8[0][0]                   \n",
            "__________________________________________________________________________________________________\n",
            "activation_3 (Activation)       (None, 5, 5)         0           dot_3[0][0]                      \n",
            "__________________________________________________________________________________________________\n",
            "conv1d_9 (Conv1D)               (None, 5, 64)        9664        lstm_9[0][0]                     \n",
            "__________________________________________________________________________________________________\n",
            "reg_dot2 (Dot)                  (None, 5, 64)        0           activation_3[0][0]               \n",
            "                                                                 conv1d_9[0][0]                   \n",
            "__________________________________________________________________________________________________\n",
            "dense_6 (Dense)                 (None, 5, 50)        3250        reg_dot2[0][0]                   \n",
            "==================================================================================================\n",
            "Total params: 143,178\n",
            "Trainable params: 143,178\n",
            "Non-trainable params: 0\n",
            "__________________________________________________________________________________________________\n"
          ],
          "name": "stdout"
        }
      ]
    },
    {
      "cell_type": "markdown",
      "metadata": {
        "colab_type": "text",
        "id": "vU2BdqHgLTDJ"
      },
      "source": [
        "**5000 Epochs**"
      ]
    },
    {
      "cell_type": "code",
      "metadata": {
        "colab_type": "code",
        "outputId": "5420096d-23a8-4f74-9e8a-21f9d85d8933",
        "id": "x-cERys3LTDP",
        "colab": {
          "base_uri": "https://localhost:8080/",
          "height": 272
        }
      },
      "source": [
        "# configure problem\n",
        "n_features = 50\n",
        "n_timesteps_in = 5\n",
        "n_timesteps_out = 2\n",
        "n_repeats = 5\n",
        "epochs = 5000\n",
        "\n",
        "# evaluate encoder-decoder model\n",
        "print('Encoder-Decoder Model')\n",
        "results = list()\n",
        "for _ in range(n_repeats):\n",
        "  model = baseline_model(n_timesteps_in, n_features)\n",
        "  accuracy = train_evaluate_model(model, n_timesteps_in, n_timesteps_out, n_features, epochs)\n",
        "  results.append(accuracy)\n",
        "  print(accuracy)\n",
        "print('Mean Accuracy: %.2f%% \\n' % (sum(results)/float(n_repeats)))\n",
        "\n",
        "# evaluate encoder-decoder with attention model\n",
        "print('Encoder-Decoder With Attention Model')\n",
        "results = list()\n",
        "for _ in range(n_repeats):\n",
        "  model = attention_model(n_timesteps_in, n_features)\n",
        "  accuracy = train_evaluate_model(model, n_timesteps_in, n_timesteps_out, n_features, epochs)\n",
        "  results.append(accuracy)\n",
        "  print(accuracy)\n",
        "print('Mean Accuracy: %.2f%%' % (sum(results)/float(n_repeats)))"
      ],
      "execution_count": 0,
      "outputs": [
        {
          "output_type": "stream",
          "text": [
            "Encoder-Decoder Model\n",
            "24.0\n",
            "22.0\n",
            "23.0\n",
            "22.0\n",
            "19.0\n",
            "Mean Accuracy: 22.00% \n",
            "\n",
            "Encoder-Decoder With Attention Model\n",
            "36.0\n",
            "47.0\n",
            "47.0\n",
            "73.0\n",
            "92.0\n",
            "Mean Accuracy: 59.00%\n"
          ],
          "name": "stdout"
        }
      ]
    },
    {
      "cell_type": "markdown",
      "metadata": {
        "id": "S_fxrq0ZsJiQ",
        "colab_type": "text"
      },
      "source": [
        "# **Revision Self Attention Model 1 (5000 epochs)**\n",
        "\n",
        "1.   Adjust the hidden neurons number of query, key and value's layers\n",
        "2.   Performance improves by double and is more stable\n",
        "\n"
      ]
    },
    {
      "cell_type": "code",
      "metadata": {
        "id": "4cpKyoFrZP_U",
        "colab_type": "code",
        "outputId": "4efa77a2-0653-4201-e650-835379dea860",
        "colab": {
          "base_uri": "https://localhost:8080/",
          "height": 728
        }
      },
      "source": [
        "# generate a sequence of random integers\n",
        "def generate_sequence(length, n_unique):\n",
        "\treturn [randint(0, n_unique-1) for _ in range(length)]\n",
        " \n",
        "# one hot encode sequence\n",
        "def one_hot_encode(sequence, n_unique):\n",
        "\tencoding = list()\n",
        "\tfor value in sequence:\n",
        "\t\tvector = [0 for _ in range(n_unique)]\n",
        "\t\tvector[value] = 1\n",
        "\t\tencoding.append(vector)\n",
        "\treturn array(encoding)\n",
        " \n",
        "# decode a one hot encoded string\n",
        "def one_hot_decode(encoded_seq):\n",
        "\treturn [argmax(vector) for vector in encoded_seq]\n",
        " \n",
        "# prepare data for the LSTM\n",
        "def get_pair(n_in, n_out, cardinality):\n",
        "\t# generate random sequence\n",
        "\tsequence_in = generate_sequence(n_in, cardinality)\n",
        "\tsequence_out = sequence_in[:n_out] + [0 for _ in range(n_in-n_out)]\n",
        "\t# one hot encode\n",
        "\tX = one_hot_encode(sequence_in, cardinality)\n",
        "\ty = one_hot_encode(sequence_out, cardinality)\n",
        "\t# reshape as 3D\n",
        "\tX = X.reshape((1, X.shape[0], X.shape[1]))\n",
        "\ty = y.reshape((1, y.shape[0], y.shape[1]))\n",
        "\treturn X,y\n",
        " \n",
        "# train and evaluate a model, return accuracy\n",
        "def train_evaluate_model(model, n_timesteps_in, n_timesteps_out, n_features, epochs):\n",
        "\t# train LSTM\n",
        "\tfor epoch in range(epochs):\n",
        "\t\t# generate new random sequence\n",
        "\t\tX,y = get_pair(n_timesteps_in, n_timesteps_out, n_features)\n",
        "\t\t# fit model for one epoch on this sequence\n",
        "\t\tmodel.fit(X, y, epochs=1, verbose=0)\n",
        "\t# evaluate LSTM\n",
        "\ttotal, correct = 100, 0\n",
        "\tfor _ in range(total):\n",
        "\t\tX,y = get_pair(n_timesteps_in, n_timesteps_out, n_features)\n",
        "\t\tyhat = model.predict(X, verbose=0)\n",
        "\t\tif array_equal(one_hot_decode(y[0]), one_hot_decode(yhat[0])):\n",
        "\t\t\tcorrect += 1\n",
        "\treturn float(correct)/float(total)*100.0\n",
        "\n",
        "# My own attention model\n",
        "# define the encoder-decoder with attention model\n",
        "def attention_model(n_timesteps_in, n_features):\n",
        "  input_ = Input(shape=(n_timesteps_in, n_features))\n",
        "  x = LSTM(150, return_sequences=True)(input_)\n",
        "\n",
        "  # Create query, key, value for self-attention computation\n",
        "  # Conv1D with kernel_size 1 is equal to Dense\n",
        "  query = Conv1D(filters=75, kernel_size=1, activation=\"relu\", strides=1)(x)\n",
        "  key = Conv1D(filters=75, kernel_size=1, activation=\"relu\", strides=1)(x)\n",
        "  value = Conv1D(filters=150, kernel_size=1, activation=\"relu\", strides=1)(x)\n",
        "  # Dot product query and key - the query_key's size should be (timesteps * timesteps)\n",
        "  # axes: indicate the axes to multiply with the other tensor\n",
        "  query_key = Dot(axes=2, normalize=True)([query,key]) \n",
        "  # Softmax is applied across the columns to find the attention of one timestep to the others\n",
        "  # The attention's size should be (timesteps * timesteps)\n",
        "  attention = Activation(\"softmax\")(query_key)\n",
        "  content_vector = Dot(axes=1, normalize=True, name=\"reg_dot2\")([attention,value])\n",
        "\n",
        "  output_ = Dense(n_features, activation=\"softmax\")(content_vector)\n",
        "  model = Model(inputs=input_, outputs=output_)\n",
        "  model.compile(loss='categorical_crossentropy', optimizer='adam', metrics=['accuracy'])\n",
        "\n",
        "  return model\n",
        "\n",
        "# configure problem\n",
        "n_features = 50\n",
        "n_timesteps_in = 5\n",
        "n_timesteps_out = 2\n",
        "n_repeats = 5\n",
        "epochs = 5000\n",
        "\n",
        "# evaluate encoder-decoder with attention model\n",
        "print('Encoder-Decoder With Attention Model')\n",
        "results = list()\n",
        "for i in range(n_repeats):\n",
        "  model = attention_model(n_timesteps_in, n_features)\n",
        "  if i == 0:\n",
        "    model.summary()\n",
        "  accuracy = train_evaluate_model(model, n_timesteps_in, n_timesteps_out, n_features, epochs)\n",
        "  results.append(accuracy)\n",
        "  print(accuracy)\n",
        "print('Mean Accuracy: %.2f%%' % (sum(results)/float(n_repeats)))"
      ],
      "execution_count": 0,
      "outputs": [
        {
          "output_type": "stream",
          "text": [
            "Encoder-Decoder With Attention Model\n",
            "Model: \"model_1\"\n",
            "__________________________________________________________________________________________________\n",
            "Layer (type)                    Output Shape         Param #     Connected to                     \n",
            "==================================================================================================\n",
            "input_2 (InputLayer)            [(None, 5, 50)]      0                                            \n",
            "__________________________________________________________________________________________________\n",
            "lstm_1 (LSTM)                   (None, 5, 150)       120600      input_2[0][0]                    \n",
            "__________________________________________________________________________________________________\n",
            "conv1d_3 (Conv1D)               (None, 5, 75)        11325       lstm_1[0][0]                     \n",
            "__________________________________________________________________________________________________\n",
            "conv1d_4 (Conv1D)               (None, 5, 75)        11325       lstm_1[0][0]                     \n",
            "__________________________________________________________________________________________________\n",
            "dot_1 (Dot)                     (None, 5, 5)         0           conv1d_3[0][0]                   \n",
            "                                                                 conv1d_4[0][0]                   \n",
            "__________________________________________________________________________________________________\n",
            "activation_1 (Activation)       (None, 5, 5)         0           dot_1[0][0]                      \n",
            "__________________________________________________________________________________________________\n",
            "conv1d_5 (Conv1D)               (None, 5, 150)       22650       lstm_1[0][0]                     \n",
            "__________________________________________________________________________________________________\n",
            "reg_dot2 (Dot)                  (None, 5, 150)       0           activation_1[0][0]               \n",
            "                                                                 conv1d_5[0][0]                   \n",
            "__________________________________________________________________________________________________\n",
            "dense_1 (Dense)                 (None, 5, 50)        7550        reg_dot2[0][0]                   \n",
            "==================================================================================================\n",
            "Total params: 173,450\n",
            "Trainable params: 173,450\n",
            "Non-trainable params: 0\n",
            "__________________________________________________________________________________________________\n",
            "WARNING:tensorflow:From /usr/local/lib/python3.6/dist-packages/tensorflow_core/python/ops/math_grad.py:1424: where (from tensorflow.python.ops.array_ops) is deprecated and will be removed in a future version.\n",
            "Instructions for updating:\n",
            "Use tf.where in 2.0, which has the same broadcast rule as np.where\n",
            "62.0\n",
            "86.0\n",
            "86.0\n",
            "99.0\n",
            "79.0\n",
            "Mean Accuracy: 82.40%\n"
          ],
          "name": "stdout"
        }
      ]
    },
    {
      "cell_type": "markdown",
      "metadata": {
        "colab_type": "text",
        "id": "H2PQ6ReSOK5X"
      },
      "source": [
        "**Activation Map Visualization**"
      ]
    },
    {
      "cell_type": "code",
      "metadata": {
        "colab_type": "code",
        "outputId": "de5be291-b233-4368-bb7e-94bbd62413c3",
        "id": "rB94icpGOK5e",
        "colab": {
          "base_uri": "https://localhost:8080/",
          "height": 656
        }
      },
      "source": [
        "# For revision model 1\n",
        "activation_model = Model(inputs=model.input, outputs=model.layers[-4].output, name=\"Activation_model\")\n",
        "activation_model.summary()\n",
        "\n",
        "X,y = get_pair(n_timesteps_in, n_timesteps_out, n_features)\n",
        "activation = activation_model.predict(X, verbose=0)\n",
        "yhat = model.predict(X, verbose=0)\n",
        "\n",
        "fig = plt.matshow(activation[0].transpose())\n",
        "plt.colorbar(fig)\n",
        "plt.show()\n",
        "\n",
        "one_hot_decode(X[0]), one_hot_decode(y[0]), one_hot_decode(yhat[0])"
      ],
      "execution_count": 0,
      "outputs": [
        {
          "output_type": "stream",
          "text": [
            "Model: \"Activation_model\"\n",
            "__________________________________________________________________________________________________\n",
            "Layer (type)                    Output Shape         Param #     Connected to                     \n",
            "==================================================================================================\n",
            "input_6 (InputLayer)            [(None, 5, 50)]      0                                            \n",
            "__________________________________________________________________________________________________\n",
            "lstm_5 (LSTM)                   (None, 5, 150)       120600      input_6[0][0]                    \n",
            "__________________________________________________________________________________________________\n",
            "conv1d_15 (Conv1D)              (None, 5, 75)        11325       lstm_5[0][0]                     \n",
            "__________________________________________________________________________________________________\n",
            "conv1d_16 (Conv1D)              (None, 5, 75)        11325       lstm_5[0][0]                     \n",
            "__________________________________________________________________________________________________\n",
            "dot_5 (Dot)                     (None, 5, 5)         0           conv1d_15[0][0]                  \n",
            "                                                                 conv1d_16[0][0]                  \n",
            "__________________________________________________________________________________________________\n",
            "activation_5 (Activation)       (None, 5, 5)         0           dot_5[0][0]                      \n",
            "==================================================================================================\n",
            "Total params: 143,250\n",
            "Trainable params: 143,250\n",
            "Non-trainable params: 0\n",
            "__________________________________________________________________________________________________\n"
          ],
          "name": "stdout"
        },
        {
          "output_type": "display_data",
          "data": {
            "image/png": "[encoded data removed]",
            "text/plain": [
              "<Figure size 288x288 with 2 Axes>"
            ]
          },
          "metadata": {
            "tags": []
          }
        },
        {
          "output_type": "execute_result",
          "data": {
            "text/plain": [
              "([13, 46, 49, 0, 40], [13, 46, 0, 0, 0], [13, 46, 0, 0, 0])"
            ]
          },
          "metadata": {
            "tags": []
          },
          "execution_count": 14
        }
      ]
    },
    {
      "cell_type": "markdown",
      "metadata": {
        "id": "foK4d8faNfgW",
        "colab_type": "text"
      },
      "source": [
        "# **Revision Self Attention Model 2 (5000 epochs)**\n",
        "\n",
        "1.   Adjust the hidden neurons number of query, key and value's layers\n",
        "2.   Add the original input to the attention layer with the attention output (attention map)\n",
        "3.   The result is slighty better than that of the revision model 1"
      ]
    },
    {
      "cell_type": "code",
      "metadata": {
        "id": "fX2hssQXrIN0",
        "colab_type": "code",
        "outputId": "0722fa02-71e1-429a-c478-6d825409ca9c",
        "colab": {
          "base_uri": "https://localhost:8080/",
          "height": 748
        }
      },
      "source": [
        "# My own attention model\n",
        "# define the encoder-decoder with attention model\n",
        "def attention_model(n_timesteps_in, n_features):\n",
        " input_ = Input(shape=(n_timesteps_in, n_features))\n",
        " x = LSTM(150, return_sequences=True)(input_)\n",
        "\n",
        " # Create query, key, value for self-attention computation\n",
        " # Conv1D with kernel_size 1 is equal to Dense\n",
        " query = Conv1D(filters=75, kernel_size=1, activation=\"relu\", strides=1)(x)\n",
        " key = Conv1D(filters=75, kernel_size=1, activation=\"relu\", strides=1)(x)\n",
        " value = Conv1D(filters=150, kernel_size=1, activation=\"relu\", strides=1)(x)\n",
        " # Dot product query and key - the query_key's size should be (timesteps * timesteps)\n",
        " # axes: indicate the axes to multiply with the other tensor\n",
        " query_key = Dot(axes=2, normalize=True)([query,key]) \n",
        " # Softmax is applied across the columns to find the attention of one timestep to the others\n",
        " # The attention's size should be (timesteps * timesteps)\n",
        " attention = Activation(\"softmax\")(query_key)\n",
        " content_vector = Dot(axes=1, normalize=True, name=\"reg_dot2\")([attention,value])\n",
        " content_vector = Add()([x,content_vector])\n",
        " output_ = Dense(n_features, activation=\"softmax\")(content_vector)\n",
        "\n",
        " model = Model(inputs=input_, outputs=output_)\n",
        " model.compile(loss='categorical_crossentropy', optimizer='adam', metrics=['accuracy'])\n",
        " return model\n",
        "\n",
        "# configure problem\n",
        "n_features = 50\n",
        "n_timesteps_in = 5\n",
        "n_timesteps_out = 2\n",
        "n_repeats = 10\n",
        "epochs = 5000\n",
        "\n",
        "# evaluate encoder-decoder with attention model\n",
        "print('Encoder-Decoder With Attention Model')\n",
        "results = list()\n",
        "for i in range(n_repeats):\n",
        "  model = attention_model(n_timesteps_in, n_features)\n",
        "  if i == 0:\n",
        "    model.summary()\n",
        "  accuracy = train_evaluate_model(model, n_timesteps_in, n_timesteps_out, n_features, epochs)\n",
        "  results.append(accuracy)\n",
        "  print(accuracy)\n",
        "print('Mean Accuracy: %.2f%%' % (sum(results)/float(n_repeats)))"
      ],
      "execution_count": 0,
      "outputs": [
        {
          "output_type": "stream",
          "text": [
            "Encoder-Decoder With Attention Model\n",
            "Model: \"model_50\"\n",
            "__________________________________________________________________________________________________\n",
            "Layer (type)                    Output Shape         Param #     Connected to                     \n",
            "==================================================================================================\n",
            "input_50 (InputLayer)           (None, 5, 50)        0                                            \n",
            "__________________________________________________________________________________________________\n",
            "lstm_53 (LSTM)                  (None, 5, 150)       120600      input_50[0][0]                   \n",
            "__________________________________________________________________________________________________\n",
            "conv1d_139 (Conv1D)             (None, 5, 75)        11325       lstm_53[0][0]                    \n",
            "__________________________________________________________________________________________________\n",
            "conv1d_140 (Conv1D)             (None, 5, 75)        11325       lstm_53[0][0]                    \n",
            "__________________________________________________________________________________________________\n",
            "dot_47 (Dot)                    (None, 5, 5)         0           conv1d_139[0][0]                 \n",
            "                                                                 conv1d_140[0][0]                 \n",
            "__________________________________________________________________________________________________\n",
            "activation_47 (Activation)      (None, 5, 5)         0           dot_47[0][0]                     \n",
            "__________________________________________________________________________________________________\n",
            "conv1d_141 (Conv1D)             (None, 5, 150)       22650       lstm_53[0][0]                    \n",
            "__________________________________________________________________________________________________\n",
            "reg_dot2 (Dot)                  (None, 5, 150)       0           activation_47[0][0]              \n",
            "                                                                 conv1d_141[0][0]                 \n",
            "__________________________________________________________________________________________________\n",
            "add_6 (Add)                     (None, 5, 150)       0           lstm_53[0][0]                    \n",
            "                                                                 reg_dot2[0][0]                   \n",
            "__________________________________________________________________________________________________\n",
            "dense_50 (Dense)                (None, 5, 50)        7550        add_6[0][0]                      \n",
            "==================================================================================================\n",
            "Total params: 173,450\n",
            "Trainable params: 173,450\n",
            "Non-trainable params: 0\n",
            "__________________________________________________________________________________________________\n",
            "71.0\n",
            "94.0\n",
            "91.0\n",
            "100.0\n",
            "79.0\n",
            "94.0\n",
            "73.0\n",
            "98.0\n",
            "83.0\n",
            "96.0\n",
            "Mean Accuracy: 87.90%\n"
          ],
          "name": "stdout"
        }
      ]
    },
    {
      "cell_type": "markdown",
      "metadata": {
        "colab_type": "text",
        "id": "QzvP36CxRiYa"
      },
      "source": [
        "**Activation Map Visualization**"
      ]
    },
    {
      "cell_type": "code",
      "metadata": {
        "colab_type": "code",
        "id": "TG7on62oRiYk",
        "outputId": "2843b1e4-12a9-4d26-afb9-9d53a36cd8c7",
        "colab": {
          "base_uri": "https://localhost:8080/",
          "height": 634
        }
      },
      "source": [
        "# For revision model 2\n",
        "activation_model = Model(inputs=model.input, outputs=model.layers[-5].output, name=\"Activation_model\")\n",
        "activation_model.summary()\n",
        "\n",
        "X,y = get_pair(n_timesteps_in, n_timesteps_out, n_features)\n",
        "activation = activation_model.predict(X, verbose=0)\n",
        "yhat = model.predict(X, verbose=0)\n",
        "\n",
        "fig = plt.matshow(activation[0])\n",
        "plt.colorbar(fig)\n",
        "plt.show()\n",
        "\n",
        "one_hot_decode(X[0]), one_hot_decode(y[0]), one_hot_decode(yhat[0])"
      ],
      "execution_count": 0,
      "outputs": [
        {
          "output_type": "stream",
          "text": [
            "Model: \"Activation_model\"\n",
            "__________________________________________________________________________________________________\n",
            "Layer (type)                    Output Shape         Param #     Connected to                     \n",
            "==================================================================================================\n",
            "input_59 (InputLayer)           (None, 5, 50)        0                                            \n",
            "__________________________________________________________________________________________________\n",
            "lstm_62 (LSTM)                  (None, 5, 150)       120600      input_59[0][0]                   \n",
            "__________________________________________________________________________________________________\n",
            "conv1d_166 (Conv1D)             (None, 5, 75)        11325       lstm_62[0][0]                    \n",
            "__________________________________________________________________________________________________\n",
            "conv1d_167 (Conv1D)             (None, 5, 75)        11325       lstm_62[0][0]                    \n",
            "__________________________________________________________________________________________________\n",
            "dot_56 (Dot)                    (None, 5, 5)         0           conv1d_166[0][0]                 \n",
            "                                                                 conv1d_167[0][0]                 \n",
            "__________________________________________________________________________________________________\n",
            "activation_56 (Activation)      (None, 5, 5)         0           dot_56[0][0]                     \n",
            "==================================================================================================\n",
            "Total params: 143,250\n",
            "Trainable params: 143,250\n",
            "Non-trainable params: 0\n",
            "__________________________________________________________________________________________________\n"
          ],
          "name": "stdout"
        },
        {
          "output_type": "display_data",
          "data": {
            "image/png": "[encoded data removed]",
            "text/plain": [
              "<Figure size 288x288 with 2 Axes>"
            ]
          },
          "metadata": {
            "tags": []
          }
        },
        {
          "output_type": "execute_result",
          "data": {
            "text/plain": [
              "([23, 4, 48, 29, 12], [23, 4, 0, 0, 0], [23, 4, 0, 0, 0])"
            ]
          },
          "metadata": {
            "tags": []
          },
          "execution_count": 37
        }
      ]
    },
    {
      "cell_type": "markdown",
      "metadata": {
        "id": "Vm6XGWGfkL5f",
        "colab_type": "text"
      },
      "source": [
        "# **Revision Self Attention Model 3 (5000 epochs)**\n",
        "\n",
        "1.   Adjust the hidden neurons number of query, key and value's layers\n",
        "2.   Add the original input to the attention layer with the attention output (attention map)\n",
        "3.   Add the layer normalization\n",
        "4.   Best result among the three models"
      ]
    },
    {
      "cell_type": "code",
      "metadata": {
        "id": "K7em_VM_V0H-",
        "colab_type": "code",
        "colab": {}
      },
      "source": [
        "# generate a sequence of random integers\n",
        "def generate_sequence(length, n_unique):\n",
        "\treturn [randint(0, n_unique-1) for _ in range(length)]\n",
        " \n",
        "# one hot encode sequence\n",
        "def one_hot_encode(sequence, n_unique):\n",
        "\tencoding = list()\n",
        "\tfor value in sequence:\n",
        "\t\tvector = [0 for _ in range(n_unique)]\n",
        "\t\tvector[value] = 1\n",
        "\t\tencoding.append(vector)\n",
        "\treturn array(encoding)\n",
        " \n",
        "# decode a one hot encoded string\n",
        "def one_hot_decode(encoded_seq):\n",
        "\treturn [argmax(vector) for vector in encoded_seq]\n",
        " \n",
        "# prepare data for the LSTM\n",
        "def get_pair(n_in, n_out, cardinality):\n",
        "\t# generate random sequence\n",
        "\tsequence_in = generate_sequence(n_in, cardinality)\n",
        "\tsequence_out = sequence_in[:n_out] + [0 for _ in range(n_in-n_out)]\n",
        "\t# one hot encode\n",
        "\tX = one_hot_encode(sequence_in, cardinality)\n",
        "\ty = one_hot_encode(sequence_out, cardinality)\n",
        "\t# reshape as 3D\n",
        "\tX = X.reshape((1, X.shape[0], X.shape[1]))\n",
        "\ty = y.reshape((1, y.shape[0], y.shape[1]))\n",
        "\treturn X,y\n",
        " \n",
        "# train and evaluate a model, return accuracy\n",
        "def train_evaluate_model(model, n_timesteps_in, n_timesteps_out, n_features, epochs):\n",
        "\t# train LSTM\n",
        "\tfor epoch in range(epochs):\n",
        "\t\t# generate new random sequence\n",
        "\t\tX,y = get_pair(n_timesteps_in, n_timesteps_out, n_features)\n",
        "\t\t# fit model for one epoch on this sequence\n",
        "\t\tmodel.fit(X, y, epochs=1, verbose=0)\n",
        "\t# evaluate LSTM\n",
        "\ttotal, correct = 100, 0\n",
        "\tfor _ in range(total):\n",
        "\t\tX,y = get_pair(n_timesteps_in, n_timesteps_out, n_features)\n",
        "\t\tyhat = model.predict(X, verbose=0)\n",
        "\t\tif array_equal(one_hot_decode(y[0]), one_hot_decode(yhat[0])):\n",
        "\t\t\tcorrect += 1\n",
        "\treturn float(correct)/float(total)*100.0"
      ],
      "execution_count": 0,
      "outputs": []
    },
    {
      "cell_type": "code",
      "metadata": {
        "colab_type": "code",
        "outputId": "15685838-378f-4535-d9d8-5f1c50146f91",
        "id": "XtZCqjPtViTe",
        "colab": {
          "base_uri": "https://localhost:8080/",
          "height": 874
        }
      },
      "source": [
        "# My own attention model\n",
        "# define the encoder-decoder with attention model\n",
        "def attention_model(n_timesteps_in, n_features):\n",
        " input_ = Input(shape=(n_timesteps_in, n_features))\n",
        " x = LSTM(150, return_sequences=True)(input_)\n",
        "\n",
        " # Create query, key, value for self-attention computation\n",
        " # Conv1D with kernel_size 1 is equal to Dense\n",
        " query = Conv1D(filters=75, kernel_size=1, activation=\"relu\", strides=1)(x)\n",
        " key = Conv1D(filters=75, kernel_size=1, activation=\"relu\", strides=1)(x)\n",
        " value = Conv1D(filters=150, kernel_size=1, activation=\"relu\", strides=1)(x)\n",
        " # Dot product query and key - the query_key's size should be (timesteps * timesteps)\n",
        " # axes: indicate the axes to multiply with the other tensor\n",
        " query_key = Dot(axes=2, normalize=True)([query,key]) \n",
        " # Softmax is applied across the columns to find the attention of one timestep to the others\n",
        " # The attention's size should be (timesteps * timesteps)\n",
        " attention = Activation(\"softmax\")(query_key)\n",
        " attention = LayerNormalization()(attention)\n",
        " content_vector = Dot(axes=1, normalize=True, name=\"reg_dot2\")([attention,value])\n",
        " content_vector = Add()([x,content_vector])\n",
        " output_ = Dense(n_features, activation=\"softmax\")(content_vector)\n",
        "\n",
        " model = Model(inputs=input_, outputs=output_)\n",
        " model.compile(loss='categorical_crossentropy', optimizer='adam', metrics=['accuracy'])\n",
        " return model\n",
        "\n",
        "# configure problem\n",
        "n_features = 50\n",
        "n_timesteps_in = 5\n",
        "n_timesteps_out = 2\n",
        "n_repeats = 5\n",
        "epochs = 5000\n",
        "\n",
        "# evaluate encoder-decoder with attention model\n",
        "print('Encoder-Decoder With Attention Model')\n",
        "results = list()\n",
        "for i in range(n_repeats):\n",
        "  model = attention_model(n_timesteps_in, n_features)\n",
        "  if i == 0:\n",
        "    model.summary()\n",
        "  accuracy = train_evaluate_model(model, n_timesteps_in, n_timesteps_out, n_features, epochs)\n",
        "  results.append(accuracy)\n",
        "  print(accuracy)\n",
        "print('Mean Accuracy: %.2f%%' % (sum(results)/float(n_repeats)))"
      ],
      "execution_count": 0,
      "outputs": [
        {
          "output_type": "stream",
          "text": [
            "Encoder-Decoder With Attention Model\n",
            "WARNING:tensorflow:From /usr/local/lib/python3.6/dist-packages/tensorflow_core/python/ops/resource_variable_ops.py:1630: calling BaseResourceVariable.__init__ (from tensorflow.python.ops.resource_variable_ops) with constraint is deprecated and will be removed in a future version.\n",
            "Instructions for updating:\n",
            "If using Keras pass *_constraint arguments to layers.\n",
            "Model: \"model\"\n",
            "__________________________________________________________________________________________________\n",
            "Layer (type)                    Output Shape         Param #     Connected to                     \n",
            "==================================================================================================\n",
            "input_1 (InputLayer)            [(None, 5, 50)]      0                                            \n",
            "__________________________________________________________________________________________________\n",
            "lstm (LSTM)                     (None, 5, 150)       120600      input_1[0][0]                    \n",
            "__________________________________________________________________________________________________\n",
            "conv1d (Conv1D)                 (None, 5, 75)        11325       lstm[0][0]                       \n",
            "__________________________________________________________________________________________________\n",
            "conv1d_1 (Conv1D)               (None, 5, 75)        11325       lstm[0][0]                       \n",
            "__________________________________________________________________________________________________\n",
            "dot (Dot)                       (None, 5, 5)         0           conv1d[0][0]                     \n",
            "                                                                 conv1d_1[0][0]                   \n",
            "__________________________________________________________________________________________________\n",
            "activation (Activation)         (None, 5, 5)         0           dot[0][0]                        \n",
            "__________________________________________________________________________________________________\n",
            "layer_normalization (LayerNorma (None, 5, 5)         10          activation[0][0]                 \n",
            "__________________________________________________________________________________________________\n",
            "conv1d_2 (Conv1D)               (None, 5, 150)       22650       lstm[0][0]                       \n",
            "__________________________________________________________________________________________________\n",
            "reg_dot2 (Dot)                  (None, 5, 150)       0           layer_normalization[0][0]        \n",
            "                                                                 conv1d_2[0][0]                   \n",
            "__________________________________________________________________________________________________\n",
            "add (Add)                       (None, 5, 150)       0           lstm[0][0]                       \n",
            "                                                                 reg_dot2[0][0]                   \n",
            "__________________________________________________________________________________________________\n",
            "dense (Dense)                   (None, 5, 50)        7550        add[0][0]                        \n",
            "==================================================================================================\n",
            "Total params: 173,460\n",
            "Trainable params: 173,460\n",
            "Non-trainable params: 0\n",
            "__________________________________________________________________________________________________\n",
            "WARNING:tensorflow:From /usr/local/lib/python3.6/dist-packages/tensorflow_core/python/ops/math_grad.py:1424: where (from tensorflow.python.ops.array_ops) is deprecated and will be removed in a future version.\n",
            "Instructions for updating:\n",
            "Use tf.where in 2.0, which has the same broadcast rule as np.where\n",
            "100.0\n",
            "99.0\n",
            "100.0\n",
            "100.0\n",
            "100.0\n",
            "Mean Accuracy: 99.80%\n"
          ],
          "name": "stdout"
        }
      ]
    },
    {
      "cell_type": "markdown",
      "metadata": {
        "colab_type": "text",
        "id": "16Q_pimBViTq"
      },
      "source": [
        "**Activation Map Visualization**"
      ]
    },
    {
      "cell_type": "code",
      "metadata": {
        "colab_type": "code",
        "outputId": "3e0aed42-c0fe-4ff0-efd3-3d1717d92288",
        "id": "Tv5i8sEhViTs",
        "colab": {
          "base_uri": "https://localhost:8080/",
          "height": 690
        }
      },
      "source": [
        "# For revision model 3\n",
        "activation_model = Model(inputs=model.input, outputs=model.layers[-5].output, name=\"Activation_model\")\n",
        "activation_model.summary()\n",
        "\n",
        "X,y = get_pair(n_timesteps_in, n_timesteps_out, n_features)\n",
        "activation = activation_model.predict(X, verbose=0)\n",
        "yhat = model.predict(X, verbose=0)\n",
        "\n",
        "fig = plt.matshow(activation[0])\n",
        "plt.colorbar(fig)\n",
        "plt.show()\n",
        "\n",
        "one_hot_decode(X[0]), one_hot_decode(y[0]), one_hot_decode(yhat[0])"
      ],
      "execution_count": 0,
      "outputs": [
        {
          "output_type": "stream",
          "text": [
            "Model: \"Activation_model\"\n",
            "__________________________________________________________________________________________________\n",
            "Layer (type)                    Output Shape         Param #     Connected to                     \n",
            "==================================================================================================\n",
            "input_5 (InputLayer)            [(None, 5, 50)]      0                                            \n",
            "__________________________________________________________________________________________________\n",
            "lstm_4 (LSTM)                   (None, 5, 150)       120600      input_5[0][0]                    \n",
            "__________________________________________________________________________________________________\n",
            "conv1d_12 (Conv1D)              (None, 5, 75)        11325       lstm_4[0][0]                     \n",
            "__________________________________________________________________________________________________\n",
            "conv1d_13 (Conv1D)              (None, 5, 75)        11325       lstm_4[0][0]                     \n",
            "__________________________________________________________________________________________________\n",
            "dot_4 (Dot)                     (None, 5, 5)         0           conv1d_12[0][0]                  \n",
            "                                                                 conv1d_13[0][0]                  \n",
            "__________________________________________________________________________________________________\n",
            "activation_4 (Activation)       (None, 5, 5)         0           dot_4[0][0]                      \n",
            "__________________________________________________________________________________________________\n",
            "layer_normalization_4 (LayerNor (None, 5, 5)         10          activation_4[0][0]               \n",
            "==================================================================================================\n",
            "Total params: 143,260\n",
            "Trainable params: 143,260\n",
            "Non-trainable params: 0\n",
            "__________________________________________________________________________________________________\n"
          ],
          "name": "stdout"
        },
        {
          "output_type": "display_data",
          "data": {
            "image/png": "[encoded data removed]",
            "text/plain": [
              "<Figure size 288x288 with 2 Axes>"
            ]
          },
          "metadata": {
            "tags": []
          }
        },
        {
          "output_type": "execute_result",
          "data": {
            "text/plain": [
              "([24, 41, 15, 1, 40], [24, 41, 0, 0, 0], [24, 41, 0, 0, 0])"
            ]
          },
          "metadata": {
            "tags": []
          },
          "execution_count": 14
        }
      ]
    },
    {
      "cell_type": "markdown",
      "metadata": {
        "colab_type": "text",
        "id": "9Ry7S5fvYkvp"
      },
      "source": [
        "# **Revision Self Attention Model 4 (5000 epochs)**\n",
        "\n",
        "1.   Adjust the hidden neurons number of query, key and value's layers\n",
        "2.   Concatenate the original input to the attention layer with the attention output (attention map)\n",
        "3.   Add the layer normalization\n",
        "4.   Same result as model 3"
      ]
    },
    {
      "cell_type": "code",
      "metadata": {
        "colab_type": "code",
        "id": "GgcD04wGYkvs",
        "colab": {}
      },
      "source": [
        "# generate a sequence of random integers\n",
        "def generate_sequence(length, n_unique):\n",
        "\treturn [randint(0, n_unique-1) for _ in range(length)]\n",
        " \n",
        "# one hot encode sequence\n",
        "def one_hot_encode(sequence, n_unique):\n",
        "\tencoding = list()\n",
        "\tfor value in sequence:\n",
        "\t\tvector = [0 for _ in range(n_unique)]\n",
        "\t\tvector[value] = 1\n",
        "\t\tencoding.append(vector)\n",
        "\treturn array(encoding)\n",
        " \n",
        "# decode a one hot encoded string\n",
        "def one_hot_decode(encoded_seq):\n",
        "\treturn [argmax(vector) for vector in encoded_seq]\n",
        " \n",
        "# prepare data for the LSTM\n",
        "def get_pair(n_in, n_out, cardinality):\n",
        "\t# generate random sequence\n",
        "\tsequence_in = generate_sequence(n_in, cardinality)\n",
        "\tsequence_out = sequence_in[:n_out] + [0 for _ in range(n_in-n_out)]\n",
        "\t# one hot encode\n",
        "\tX = one_hot_encode(sequence_in, cardinality)\n",
        "\ty = one_hot_encode(sequence_out, cardinality)\n",
        "\t# reshape as 3D\n",
        "\tX = X.reshape((1, X.shape[0], X.shape[1]))\n",
        "\ty = y.reshape((1, y.shape[0], y.shape[1]))\n",
        "\treturn X,y\n",
        " \n",
        "# train and evaluate a model, return accuracy\n",
        "def train_evaluate_model(model, n_timesteps_in, n_timesteps_out, n_features, epochs):\n",
        "\t# train LSTM\n",
        "\tfor epoch in range(epochs):\n",
        "\t\t# generate new random sequence\n",
        "\t\tX,y = get_pair(n_timesteps_in, n_timesteps_out, n_features)\n",
        "\t\t# fit model for one epoch on this sequence\n",
        "\t\tmodel.fit(X, y, epochs=1, verbose=0)\n",
        "\t# evaluate LSTM\n",
        "\ttotal, correct = 100, 0\n",
        "\tfor _ in range(total):\n",
        "\t\tX,y = get_pair(n_timesteps_in, n_timesteps_out, n_features)\n",
        "\t\tyhat = model.predict(X, verbose=0)\n",
        "\t\tif array_equal(one_hot_decode(y[0]), one_hot_decode(yhat[0])):\n",
        "\t\t\tcorrect += 1\n",
        "\treturn float(correct)/float(total)*100.0"
      ],
      "execution_count": 0,
      "outputs": []
    },
    {
      "cell_type": "code",
      "metadata": {
        "colab_type": "code",
        "outputId": "427b6c46-8817-4e90-9cd7-3e7928b3018c",
        "id": "OH0ed5avYkvv",
        "colab": {
          "base_uri": "https://localhost:8080/",
          "height": 745
        }
      },
      "source": [
        "# My own attention model\n",
        "# define the encoder-decoder with attention model\n",
        "def attention_model(n_timesteps_in, n_features):\n",
        " input_ = Input(shape=(n_timesteps_in, n_features))\n",
        " x = LSTM(150, return_sequences=True)(input_)\n",
        "\n",
        " # Create query, key, value for self-attention computation\n",
        " # Conv1D with kernel_size 1 is equal to Dense\n",
        " query = Conv1D(filters=75, kernel_size=1, activation=\"relu\", strides=1)(x)\n",
        " key = Conv1D(filters=75, kernel_size=1, activation=\"relu\", strides=1)(x)\n",
        " value = Conv1D(filters=150, kernel_size=1, activation=\"relu\", strides=1)(x)\n",
        " # Dot product query and key - the query_key's size should be (timesteps * timesteps)\n",
        " # axes: indicate the axes to multiply with the other tensor\n",
        " query_key = Dot(axes=2, normalize=True)([query,key]) \n",
        " # Softmax is applied across the columns to find the attention of one timestep to the others\n",
        " # The attention's size should be (timesteps * timesteps)\n",
        " attention = Activation(\"softmax\")(query_key)\n",
        " attention = LayerNormalization()(attention)\n",
        " content_vector = Dot(axes=1, normalize=True, name=\"reg_dot2\")([attention,value])\n",
        " content_vector = concatenate([x,content_vector])\n",
        " output_ = Dense(n_features, activation=\"softmax\")(content_vector)\n",
        "\n",
        " model = Model(inputs=input_, outputs=output_)\n",
        " model.compile(loss='categorical_crossentropy', optimizer='adam', metrics=['accuracy'])\n",
        " return model\n",
        "\n",
        "# configure problem\n",
        "n_features = 50\n",
        "n_timesteps_in = 5\n",
        "n_timesteps_out = 2\n",
        "n_repeats = 5\n",
        "epochs = 5000\n",
        "\n",
        "# evaluate encoder-decoder with attention model\n",
        "print('Encoder-Decoder With Attention Model')\n",
        "results = list()\n",
        "for i in range(n_repeats):\n",
        "  model = attention_model(n_timesteps_in, n_features)\n",
        "  if i == 0:\n",
        "    model.summary()\n",
        "  accuracy = train_evaluate_model(model, n_timesteps_in, n_timesteps_out, n_features, epochs)\n",
        "  results.append(accuracy)\n",
        "  print(accuracy)\n",
        "print('Mean Accuracy: %.2f%%' % (sum(results)/float(n_repeats)))"
      ],
      "execution_count": 0,
      "outputs": [
        {
          "output_type": "stream",
          "text": [
            "Encoder-Decoder With Attention Model\n",
            "Model: \"model_5\"\n",
            "__________________________________________________________________________________________________\n",
            "Layer (type)                    Output Shape         Param #     Connected to                     \n",
            "==================================================================================================\n",
            "input_7 (InputLayer)            [(None, 5, 50)]      0                                            \n",
            "__________________________________________________________________________________________________\n",
            "lstm_6 (LSTM)                   (None, 5, 150)       120600      input_7[0][0]                    \n",
            "__________________________________________________________________________________________________\n",
            "conv1d_18 (Conv1D)              (None, 5, 75)        11325       lstm_6[0][0]                     \n",
            "__________________________________________________________________________________________________\n",
            "conv1d_19 (Conv1D)              (None, 5, 75)        11325       lstm_6[0][0]                     \n",
            "__________________________________________________________________________________________________\n",
            "dot_6 (Dot)                     (None, 5, 5)         0           conv1d_18[0][0]                  \n",
            "                                                                 conv1d_19[0][0]                  \n",
            "__________________________________________________________________________________________________\n",
            "activation_6 (Activation)       (None, 5, 5)         0           dot_6[0][0]                      \n",
            "__________________________________________________________________________________________________\n",
            "layer_normalization_6 (LayerNor (None, 5, 5)         10          activation_6[0][0]               \n",
            "__________________________________________________________________________________________________\n",
            "conv1d_20 (Conv1D)              (None, 5, 150)       22650       lstm_6[0][0]                     \n",
            "__________________________________________________________________________________________________\n",
            "reg_dot2 (Dot)                  (None, 5, 150)       0           layer_normalization_6[0][0]      \n",
            "                                                                 conv1d_20[0][0]                  \n",
            "__________________________________________________________________________________________________\n",
            "concatenate (Concatenate)       (None, 5, 300)       0           lstm_6[0][0]                     \n",
            "                                                                 reg_dot2[0][0]                   \n",
            "__________________________________________________________________________________________________\n",
            "dense_5 (Dense)                 (None, 5, 50)        15050       concatenate[0][0]                \n",
            "==================================================================================================\n",
            "Total params: 180,960\n",
            "Trainable params: 180,960\n",
            "Non-trainable params: 0\n",
            "__________________________________________________________________________________________________\n",
            "100.0\n",
            "100.0\n",
            "100.0\n",
            "100.0\n",
            "100.0\n",
            "Mean Accuracy: 100.00%\n"
          ],
          "name": "stdout"
        }
      ]
    },
    {
      "cell_type": "markdown",
      "metadata": {
        "colab_type": "text",
        "id": "8-zKfPY4Ykv0"
      },
      "source": [
        "**Activation Map Visualization**"
      ]
    },
    {
      "cell_type": "code",
      "metadata": {
        "colab_type": "code",
        "outputId": "1b938a35-9311-4079-a82c-cf672565966c",
        "id": "EzKbgrEZYkv1",
        "colab": {
          "base_uri": "https://localhost:8080/",
          "height": 694
        }
      },
      "source": [
        "# For revision model 4\n",
        "activation_model = Model(inputs=model.input, outputs=model.layers[-5].output, name=\"Activation_model\")\n",
        "activation_model.summary()\n",
        "\n",
        "X,y = get_pair(n_timesteps_in, n_timesteps_out, n_features)\n",
        "activation = activation_model.predict(X, verbose=0)\n",
        "yhat = model.predict(X, verbose=0)\n",
        "\n",
        "fig = plt.matshow(activation[0])\n",
        "plt.colorbar(fig)\n",
        "plt.show()\n",
        "\n",
        "one_hot_decode(X[0]), one_hot_decode(y[0]), one_hot_decode(yhat[0])"
      ],
      "execution_count": 0,
      "outputs": [
        {
          "output_type": "stream",
          "text": [
            "Model: \"Activation_model\"\n",
            "__________________________________________________________________________________________________\n",
            "Layer (type)                    Output Shape         Param #     Connected to                     \n",
            "==================================================================================================\n",
            "input_11 (InputLayer)           [(None, 5, 50)]      0                                            \n",
            "__________________________________________________________________________________________________\n",
            "lstm_10 (LSTM)                  (None, 5, 150)       120600      input_11[0][0]                   \n",
            "__________________________________________________________________________________________________\n",
            "conv1d_30 (Conv1D)              (None, 5, 75)        11325       lstm_10[0][0]                    \n",
            "__________________________________________________________________________________________________\n",
            "conv1d_31 (Conv1D)              (None, 5, 75)        11325       lstm_10[0][0]                    \n",
            "__________________________________________________________________________________________________\n",
            "dot_10 (Dot)                    (None, 5, 5)         0           conv1d_30[0][0]                  \n",
            "                                                                 conv1d_31[0][0]                  \n",
            "__________________________________________________________________________________________________\n",
            "activation_10 (Activation)      (None, 5, 5)         0           dot_10[0][0]                     \n",
            "__________________________________________________________________________________________________\n",
            "layer_normalization_10 (LayerNo (None, 5, 5)         10          activation_10[0][0]              \n",
            "==================================================================================================\n",
            "Total params: 143,260\n",
            "Trainable params: 143,260\n",
            "Non-trainable params: 0\n",
            "__________________________________________________________________________________________________\n"
          ],
          "name": "stdout"
        },
        {
          "output_type": "display_data",
          "data": {
            "image/png": "[encoded data removed]",
            "text/plain": [
              "<Figure size 288x288 with 2 Axes>"
            ]
          },
          "metadata": {
            "tags": []
          }
        },
        {
          "output_type": "execute_result",
          "data": {
            "text/plain": [
              "([20, 11, 47, 2, 21], [20, 11, 0, 0, 0], [20, 11, 0, 0, 0])"
            ]
          },
          "metadata": {
            "tags": []
          },
          "execution_count": 19
        }
      ]
    },
    {
      "cell_type": "code",
      "metadata": {
        "id": "e8jO9DQ0arcq",
        "colab_type": "code",
        "colab": {}
      },
      "source": [
        ""
      ],
      "execution_count": 0,
      "outputs": []
    }
  ]
}